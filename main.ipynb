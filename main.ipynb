{
 "cells": [
  {
   "cell_type": "code",
   "execution_count": 1,
   "metadata": {},
   "outputs": [],
   "source": [
    "import numpy as np\n",
    "import os\n",
    "import csv\n",
    "import helpers"
   ]
  },
  {
   "cell_type": "code",
   "execution_count": 19,
   "metadata": {},
   "outputs": [],
   "source": [
    "# Convert data in csv file to nunpy array\n",
    "def getData(filename):\n",
    "    data = []\n",
    "    with open(filename) as csvfile:\n",
    "        spamreader = csv.reader(csvfile, delimiter=';')\n",
    "        for row in spamreader:\n",
    "            data.append(row)\n",
    "\n",
    "    data_arr = np.array(data)\n",
    "    return data_arr\n",
    "\n",
    "def isDetected(input):\n",
    "    \n",
    "    even = 0\n",
    "    odd = 0\n",
    "\n",
    "    # # for entry in output:\n",
    "    # for i in range(len(output)):\n",
    "    #     entry = output[i]\n",
    "    #     if i % 2 a\n",
    "\n",
    "# Convert representation of string to digit.\n",
    "def convertToDigit(output):\n",
    "    digit = 0\n",
    "    idx = 0\n",
    "    for i in output[::-1]:\n",
    "        digit += int(i) * 2 ** idx\n",
    "        idx += 1\n",
    "    \n",
    "    return digit\n",
    "\n",
    "# Check if hostile enemy is detected\n",
    "def isHostile(entry_digits):\n",
    "    even = 0\n",
    "    odd = 0\n",
    "    \n",
    "    for entry_digits_single in entry_digits:\n",
    "        if entry_digits_single % 2 == 0:\n",
    "            even += 1\n",
    "        else:\n",
    "            odd += 1\n",
    "    \n",
    "    return even < odd\n",
    "\n",
    "# Convert a full entry to digits\n",
    "def convertToDigitFullEntry(entry):\n",
    "    entry_digits = []\n",
    "    for e in entry:\n",
    "        entry_digit = helpers.convertToDigit(e)\n",
    "        entry_digits.append(entry_digit)\n",
    "    return entry_digits\n",
    "\n",
    "\n",
    "\n"
   ]
  },
  {
   "cell_type": "code",
   "execution_count": 2,
   "metadata": {},
   "outputs": [],
   "source": [
    "filename = \"Radar-output.csv\"\n",
    "data_arr = helpers.getData(filename)"
   ]
  },
  {
   "cell_type": "code",
   "execution_count": 3,
   "metadata": {},
   "outputs": [
    {
     "name": "stdout",
     "output_type": "stream",
     "text": [
      "['0001010' '0110011' '0100110' '0010000' '0011100' '0101101' '1111010'\n",
      " '1011101' '0110100' '1101011' '0010011']\n"
     ]
    }
   ],
   "source": [
    "print(data_arr[0])"
   ]
  },
  {
   "cell_type": "code",
   "execution_count": 10,
   "metadata": {},
   "outputs": [
    {
     "data": {
      "text/plain": [
       "[10, 51, 38, 16, 28, 45, 122, 93, 52, 107, 19]"
      ]
     },
     "execution_count": 10,
     "metadata": {},
     "output_type": "execute_result"
    }
   ],
   "source": [
    "entry_digits = []\n",
    "for entry in data_arr[0]:\n",
    "    entry_digit = helpers.convertToDigit(entry)\n",
    "    entry_digits.append(entry_digit)\n",
    "\n",
    "entry_digits"
   ]
  },
  {
   "cell_type": "code",
   "execution_count": 18,
   "metadata": {},
   "outputs": [
    {
     "name": "stdout",
     "output_type": "stream",
     "text": [
      "even: 6\n",
      "odd: 5\n"
     ]
    },
    {
     "data": {
      "text/plain": [
       "False"
      ]
     },
     "execution_count": 18,
     "metadata": {},
     "output_type": "execute_result"
    }
   ],
   "source": [
    "isHostile(entry_digits)"
   ]
  },
  {
   "cell_type": "code",
   "execution_count": 14,
   "metadata": {},
   "outputs": [
    {
     "data": {
      "text/plain": [
       "False"
      ]
     },
     "execution_count": 14,
     "metadata": {},
     "output_type": "execute_result"
    }
   ],
   "source": [
    "51 % 2 == 0"
   ]
  },
  {
   "cell_type": "code",
   "execution_count": 20,
   "metadata": {},
   "outputs": [
    {
     "name": "stdout",
     "output_type": "stream",
     "text": [
      "even: 6\n",
      "odd: 5\n",
      "False\n",
      "even: 6\n",
      "odd: 5\n",
      "False\n",
      "even: 7\n",
      "odd: 4\n",
      "False\n",
      "even: 5\n",
      "odd: 6\n",
      "True\n",
      "even: 5\n",
      "odd: 6\n",
      "True\n",
      "even: 3\n",
      "odd: 8\n",
      "True\n",
      "even: 6\n",
      "odd: 5\n",
      "False\n",
      "even: 5\n",
      "odd: 6\n",
      "True\n",
      "even: 6\n",
      "odd: 5\n",
      "False\n",
      "even: 9\n",
      "odd: 2\n",
      "False\n",
      "even: 6\n",
      "odd: 5\n",
      "False\n",
      "even: 4\n",
      "odd: 7\n",
      "True\n",
      "even: 4\n",
      "odd: 7\n",
      "True\n",
      "even: 6\n",
      "odd: 5\n",
      "False\n",
      "even: 5\n",
      "odd: 6\n",
      "True\n",
      "even: 7\n",
      "odd: 4\n",
      "False\n",
      "even: 4\n",
      "odd: 7\n",
      "True\n",
      "even: 7\n",
      "odd: 4\n",
      "False\n",
      "even: 5\n",
      "odd: 6\n",
      "True\n",
      "even: 4\n",
      "odd: 7\n",
      "True\n"
     ]
    }
   ],
   "source": [
    "# FULL PROGRAM\n",
    "filename = \"Radar-output.csv\"\n",
    "data_arr = helpers.getData(filename)\n",
    "for entry in data_arr:\n",
    "    entry_digits = convertToDigitFullEntry(entry)\n",
    "    is_hostile = isHostile(entry_digits)\n",
    "    print(is_hostile)"
   ]
  }
 ],
 "metadata": {
  "kernelspec": {
   "display_name": "Python 3.8.3 ('.venv': venv)",
   "language": "python",
   "name": "python3"
  },
  "language_info": {
   "codemirror_mode": {
    "name": "ipython",
    "version": 3
   },
   "file_extension": ".py",
   "mimetype": "text/x-python",
   "name": "python",
   "nbconvert_exporter": "python",
   "pygments_lexer": "ipython3",
   "version": "3.8.3"
  },
  "orig_nbformat": 4,
  "vscode": {
   "interpreter": {
    "hash": "94a47d70f6958ca09e4ab96291474f480cb8eef89689b21523e6128a222fa86f"
   }
  }
 },
 "nbformat": 4,
 "nbformat_minor": 2
}
